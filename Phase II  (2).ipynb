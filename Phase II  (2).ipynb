{
 "cells": [
  {
   "cell_type": "code",
   "execution_count": 180,
   "id": "8f22b65f",
   "metadata": {},
   "outputs": [],
   "source": [
    "import pandas as pd\n",
    "from pandas import *\n",
    "import numpy as np\n",
    "import seaborn as sns\n",
    "%matplotlib inline \n",
    "from sklearn.model_selection import train_test_split \n",
    "from sklearn.linear_model import LinearRegression"
   ]
  },
  {
   "cell_type": "markdown",
   "id": "16dae1d9",
   "metadata": {},
   "source": [
    "### Phase II "
   ]
  },
  {
   "cell_type": "markdown",
   "id": "2f3186a9",
   "metadata": {},
   "source": [
    "### To evaluate the Environmental Pollutants PM2.5, CO, NO2, and O3 on the Incidence and Mortality of Covid 19 in DMV, the study use historical data obtained from Environmental Protection Agency and National Climate data Center. Data Visualization, Machine Learning, Prediction and Linear Regression model and correlation analysis of PM2.5, CO, NO2, and O3 data will be made to determine their impact on the Pandemic. \n"
   ]
  },
  {
   "cell_type": "markdown",
   "id": "6aabdc9a",
   "metadata": {},
   "source": [
    "## Evaluation of the Regression Analysis "
   ]
  },
  {
   "cell_type": "code",
   "execution_count": 181,
   "id": "1cd9db1a",
   "metadata": {},
   "outputs": [
    {
     "data": {
      "text/html": [
       "<div>\n",
       "<style scoped>\n",
       "    .dataframe tbody tr th:only-of-type {\n",
       "        vertical-align: middle;\n",
       "    }\n",
       "\n",
       "    .dataframe tbody tr th {\n",
       "        vertical-align: top;\n",
       "    }\n",
       "\n",
       "    .dataframe thead th {\n",
       "        text-align: right;\n",
       "    }\n",
       "</style>\n",
       "<table border=\"1\" class=\"dataframe\">\n",
       "  <thead>\n",
       "    <tr style=\"text-align: right;\">\n",
       "      <th></th>\n",
       "      <th>Ozone_ Contn</th>\n",
       "      <th>NO2_Contn</th>\n",
       "      <th>CO_ Concn</th>\n",
       "      <th>Temp_ Avg</th>\n",
       "      <th>SO2 _Contn</th>\n",
       "      <th>PM2.5_Contn</th>\n",
       "      <th>deathIncrease</th>\n",
       "    </tr>\n",
       "  </thead>\n",
       "  <tbody>\n",
       "    <tr>\n",
       "      <th>0</th>\n",
       "      <td>0.014</td>\n",
       "      <td>21.7</td>\n",
       "      <td>0.1</td>\n",
       "      <td>36</td>\n",
       "      <td>17.0</td>\n",
       "      <td>25.0</td>\n",
       "      <td>39</td>\n",
       "    </tr>\n",
       "    <tr>\n",
       "      <th>1</th>\n",
       "      <td>0.025</td>\n",
       "      <td>19.0</td>\n",
       "      <td>0.3</td>\n",
       "      <td>80</td>\n",
       "      <td>14.0</td>\n",
       "      <td>13.0</td>\n",
       "      <td>26</td>\n",
       "    </tr>\n",
       "    <tr>\n",
       "      <th>2</th>\n",
       "      <td>0.049</td>\n",
       "      <td>24.9</td>\n",
       "      <td>0.4</td>\n",
       "      <td>64</td>\n",
       "      <td>19.0</td>\n",
       "      <td>24.0</td>\n",
       "      <td>35</td>\n",
       "    </tr>\n",
       "    <tr>\n",
       "      <th>3</th>\n",
       "      <td>0.042</td>\n",
       "      <td>22.1</td>\n",
       "      <td>0.1</td>\n",
       "      <td>80</td>\n",
       "      <td>18.0</td>\n",
       "      <td>21.0</td>\n",
       "      <td>26</td>\n",
       "    </tr>\n",
       "    <tr>\n",
       "      <th>4</th>\n",
       "      <td>0.027</td>\n",
       "      <td>28.6</td>\n",
       "      <td>0.3</td>\n",
       "      <td>76</td>\n",
       "      <td>34.0</td>\n",
       "      <td>37.0</td>\n",
       "      <td>31</td>\n",
       "    </tr>\n",
       "    <tr>\n",
       "      <th>...</th>\n",
       "      <td>...</td>\n",
       "      <td>...</td>\n",
       "      <td>...</td>\n",
       "      <td>...</td>\n",
       "      <td>...</td>\n",
       "      <td>...</td>\n",
       "      <td>...</td>\n",
       "    </tr>\n",
       "    <tr>\n",
       "      <th>382</th>\n",
       "      <td>0.023</td>\n",
       "      <td>31.2</td>\n",
       "      <td>0.4</td>\n",
       "      <td>41</td>\n",
       "      <td>31.2</td>\n",
       "      <td>14.6</td>\n",
       "      <td>24</td>\n",
       "    </tr>\n",
       "    <tr>\n",
       "      <th>383</th>\n",
       "      <td>0.019</td>\n",
       "      <td>34.4</td>\n",
       "      <td>0.4</td>\n",
       "      <td>48</td>\n",
       "      <td>34.4</td>\n",
       "      <td>14.5</td>\n",
       "      <td>24</td>\n",
       "    </tr>\n",
       "    <tr>\n",
       "      <th>384</th>\n",
       "      <td>0.037</td>\n",
       "      <td>54.0</td>\n",
       "      <td>0.3</td>\n",
       "      <td>76</td>\n",
       "      <td>54.0</td>\n",
       "      <td>47.0</td>\n",
       "      <td>62</td>\n",
       "    </tr>\n",
       "    <tr>\n",
       "      <th>385</th>\n",
       "      <td>0.015</td>\n",
       "      <td>23.0</td>\n",
       "      <td>1.3</td>\n",
       "      <td>37</td>\n",
       "      <td>23.0</td>\n",
       "      <td>16.9</td>\n",
       "      <td>29</td>\n",
       "    </tr>\n",
       "    <tr>\n",
       "      <th>386</th>\n",
       "      <td>0.010</td>\n",
       "      <td>24.0</td>\n",
       "      <td>1.1</td>\n",
       "      <td>44</td>\n",
       "      <td>24.0</td>\n",
       "      <td>17.2</td>\n",
       "      <td>28</td>\n",
       "    </tr>\n",
       "  </tbody>\n",
       "</table>\n",
       "<p>387 rows × 7 columns</p>\n",
       "</div>"
      ],
      "text/plain": [
       "      Ozone_ Contn   NO2_Contn   CO_ Concn  Temp_ Avg   SO2 _Contn  \\\n",
       "0            0.014        21.7         0.1          36        17.0   \n",
       "1            0.025        19.0         0.3          80        14.0   \n",
       "2            0.049        24.9         0.4          64        19.0   \n",
       "3            0.042        22.1         0.1          80        18.0   \n",
       "4            0.027        28.6         0.3          76        34.0   \n",
       "..             ...         ...         ...         ...         ...   \n",
       "382          0.023        31.2         0.4          41        31.2   \n",
       "383          0.019        34.4         0.4          48        34.4   \n",
       "384          0.037        54.0         0.3          76        54.0   \n",
       "385          0.015        23.0         1.3          37        23.0   \n",
       "386          0.010        24.0         1.1          44        24.0   \n",
       "\n",
       "      PM2.5_Contn  deathIncrease  \n",
       "0            25.0             39  \n",
       "1            13.0             26  \n",
       "2            24.0             35  \n",
       "3            21.0             26  \n",
       "4            37.0             31  \n",
       "..            ...            ...  \n",
       "382          14.6             24  \n",
       "383          14.5             24  \n",
       "384          47.0             62  \n",
       "385          16.9             29  \n",
       "386          17.2             28  \n",
       "\n",
       "[387 rows x 7 columns]"
      ]
     },
     "execution_count": 181,
     "metadata": {},
     "output_type": "execute_result"
    }
   ],
   "source": [
    "data = pd.read_csv('DMV10043.csv')\n",
    "data"
   ]
  },
  {
   "cell_type": "code",
   "execution_count": 182,
   "id": "0657810f",
   "metadata": {},
   "outputs": [],
   "source": [
    "data =data.reindex(columns=[' NO2_Contn','CO_ Concn','Temp_ Avg ', 'SO2 _Contn', ' PM2.5_Contn',\n",
    "       'deathIncrease'])\n",
    "# features and the target (Death Increath Due to Covid) after tarined test split. "
   ]
  },
  {
   "cell_type": "code",
   "execution_count": 183,
   "id": "431fbe76",
   "metadata": {},
   "outputs": [
    {
     "data": {
      "text/plain": [
       "(387, 6)"
      ]
     },
     "execution_count": 183,
     "metadata": {},
     "output_type": "execute_result"
    }
   ],
   "source": [
    "data.shape"
   ]
  },
  {
   "cell_type": "code",
   "execution_count": 184,
   "id": "032a09ae",
   "metadata": {},
   "outputs": [
    {
     "name": "stderr",
     "output_type": "stream",
     "text": [
      "C:\\Users\\Tamrat\\Anaconda3\\lib\\site-packages\\seaborn\\axisgrid.py:2076: UserWarning: The `size` parameter has been renamed to `height`; please update your code.\n",
      "  warnings.warn(msg, UserWarning)\n"
     ]
    },
    {
     "data": {
      "text/plain": [
       "<seaborn.axisgrid.PairGrid at 0x1ec6a187c10>"
      ]
     },
     "execution_count": 184,
     "metadata": {},
     "output_type": "execute_result"
    },
    {
     "data": {
      "image/png": "[encoded data removed]",
      "text/plain": [
       "<Figure size 806.4x504 with 4 Axes>"
      ]
     },
     "metadata": {
      "needs_background": "light"
     },
     "output_type": "display_data"
    }
   ],
   "source": [
    "sns.pairplot(data,x_vars=[' NO2_Contn','Temp_ Avg ', 'SO2 _Contn', ' PM2.5_Contn'],y_vars ='deathIncrease',size=7,aspect=0.4,kind='reg')"
   ]
  },
  {
   "cell_type": "code",
   "execution_count": 185,
   "id": "a54eb0bc",
   "metadata": {},
   "outputs": [],
   "source": [
    "feature_col =['NO2_Contn','Temp_ Avg ', 'SO2 _Contn', ' PM2.5_Contn']"
   ]
  },
  {
   "cell_type": "code",
   "execution_count": 186,
   "id": "3db5f252",
   "metadata": {},
   "outputs": [],
   "source": [
    "train,test=train_test_split(data,test_size=0.2,random_state=42)"
   ]
  },
  {
   "cell_type": "code",
   "execution_count": 187,
   "id": "6c4e81fc",
   "metadata": {},
   "outputs": [
    {
     "data": {
      "text/plain": [
       "309"
      ]
     },
     "execution_count": 187,
     "metadata": {},
     "output_type": "execute_result"
    }
   ],
   "source": [
    "len(train)"
   ]
  },
  {
   "cell_type": "code",
   "execution_count": 188,
   "id": "5c62705d",
   "metadata": {},
   "outputs": [
    {
     "data": {
      "text/plain": [
       "78"
      ]
     },
     "execution_count": 188,
     "metadata": {},
     "output_type": "execute_result"
    }
   ],
   "source": [
    "len(test)"
   ]
  },
  {
   "cell_type": "code",
   "execution_count": 189,
   "id": "375cf40b",
   "metadata": {},
   "outputs": [],
   "source": [
    "y=data['deathIncrease']"
   ]
  },
  {
   "cell_type": "code",
   "execution_count": 190,
   "id": "7d212490",
   "metadata": {
    "scrolled": true
   },
   "outputs": [
    {
     "data": {
      "text/plain": [
       "0      39\n",
       "1      26\n",
       "2      35\n",
       "3      26\n",
       "4      31\n",
       "       ..\n",
       "382    24\n",
       "383    24\n",
       "384    62\n",
       "385    29\n",
       "386    28\n",
       "Name: deathIncrease, Length: 387, dtype: int64"
      ]
     },
     "execution_count": 190,
     "metadata": {},
     "output_type": "execute_result"
    }
   ],
   "source": [
    "# The target variable \n",
    "y "
   ]
  },
  {
   "cell_type": "code",
   "execution_count": 2,
   "id": "a32a9596",
   "metadata": {},
   "outputs": [
    {
     "ename": "NameError",
     "evalue": "name 'data' is not defined",
     "output_type": "error",
     "traceback": [
      "\u001b[1;31m---------------------------------------------------------------------------\u001b[0m",
      "\u001b[1;31mNameError\u001b[0m                                 Traceback (most recent call last)",
      "\u001b[1;32m~\\AppData\\Local\\Temp/ipykernel_33524/3379915359.py\u001b[0m in \u001b[0;36m<module>\u001b[1;34m\u001b[0m\n\u001b[1;32m----> 1\u001b[1;33m \u001b[0mx\u001b[0m\u001b[1;33m=\u001b[0m\u001b[0mdata\u001b[0m\u001b[1;33m[\u001b[0m\u001b[1;33m[\u001b[0m\u001b[1;34m' NO2_Contn'\u001b[0m\u001b[1;33m,\u001b[0m\u001b[1;34m'Temp_ Avg '\u001b[0m\u001b[1;33m,\u001b[0m \u001b[1;34m'SO2 _Contn'\u001b[0m\u001b[1;33m,\u001b[0m \u001b[1;34m' PM2.5_Contn'\u001b[0m\u001b[1;33m]\u001b[0m\u001b[1;33m]\u001b[0m\u001b[1;33m\u001b[0m\u001b[1;33m\u001b[0m\u001b[0m\n\u001b[0m",
      "\u001b[1;31mNameError\u001b[0m: name 'data' is not defined"
     ]
    }
   ],
   "source": [
    "x=data[[' NO2_Contn','Temp_ Avg ', 'SO2 _Contn', ' PM2.5_Contn']] "
   ]
  },
  {
   "cell_type": "code",
   "execution_count": 3,
   "id": "9d13204b",
   "metadata": {},
   "outputs": [
    {
     "ename": "NameError",
     "evalue": "name 'x' is not defined",
     "output_type": "error",
     "traceback": [
      "\u001b[1;31m---------------------------------------------------------------------------\u001b[0m",
      "\u001b[1;31mNameError\u001b[0m                                 Traceback (most recent call last)",
      "\u001b[1;32m~\\AppData\\Local\\Temp/ipykernel_33524/2598008947.py\u001b[0m in \u001b[0;36m<module>\u001b[1;34m\u001b[0m\n\u001b[0;32m      1\u001b[0m \u001b[1;31m# The predictor variables\u001b[0m\u001b[1;33m\u001b[0m\u001b[1;33m\u001b[0m\u001b[1;33m\u001b[0m\u001b[0m\n\u001b[1;32m----> 2\u001b[1;33m \u001b[0mx\u001b[0m\u001b[1;33m\u001b[0m\u001b[1;33m\u001b[0m\u001b[0m\n\u001b[0m",
      "\u001b[1;31mNameError\u001b[0m: name 'x' is not defined"
     ]
    }
   ],
   "source": [
    "# The predictor variables\n",
    "x"
   ]
  },
  {
   "cell_type": "code",
   "execution_count": 4,
   "id": "1e726abd",
   "metadata": {},
   "outputs": [
    {
     "ename": "NameError",
     "evalue": "name 'train_test_split' is not defined",
     "output_type": "error",
     "traceback": [
      "\u001b[1;31m---------------------------------------------------------------------------\u001b[0m",
      "\u001b[1;31mNameError\u001b[0m                                 Traceback (most recent call last)",
      "\u001b[1;32m~\\AppData\\Local\\Temp/ipykernel_33524/4056208460.py\u001b[0m in \u001b[0;36m<module>\u001b[1;34m\u001b[0m\n\u001b[1;32m----> 1\u001b[1;33m \u001b[0mx_train\u001b[0m\u001b[1;33m,\u001b[0m\u001b[0mx_test\u001b[0m\u001b[1;33m,\u001b[0m\u001b[0my_train\u001b[0m\u001b[1;33m,\u001b[0m\u001b[0my_test\u001b[0m\u001b[1;33m=\u001b[0m\u001b[0mtrain_test_split\u001b[0m\u001b[1;33m(\u001b[0m\u001b[0mx\u001b[0m\u001b[1;33m,\u001b[0m\u001b[0my\u001b[0m\u001b[1;33m,\u001b[0m\u001b[0mtest_size\u001b[0m\u001b[1;33m=\u001b[0m\u001b[1;36m0.50\u001b[0m\u001b[1;33m,\u001b[0m\u001b[0mrandom_state\u001b[0m\u001b[1;33m=\u001b[0m\u001b[1;36m42\u001b[0m\u001b[1;33m)\u001b[0m\u001b[1;33m\u001b[0m\u001b[1;33m\u001b[0m\u001b[0m\n\u001b[0m",
      "\u001b[1;31mNameError\u001b[0m: name 'train_test_split' is not defined"
     ]
    }
   ],
   "source": [
    "x_train,x_test,y_train,y_test=train_test_split(x,y,test_size=0.50,random_state=42)"
   ]
  },
  {
   "cell_type": "code",
   "execution_count": 194,
   "id": "f8133990",
   "metadata": {},
   "outputs": [
    {
     "data": {
      "text/plain": [
       "LinearRegression()"
      ]
     },
     "execution_count": 194,
     "metadata": {},
     "output_type": "execute_result"
    }
   ],
   "source": [
    "reg =LinearRegression( )\n",
    "reg.fit(data[['Temp_ Avg ','SO2 _Contn', ' PM2.5_Contn']],data.deathIncrease)"
   ]
  },
  {
   "cell_type": "code",
   "execution_count": 195,
   "id": "2ecf1a4f",
   "metadata": {},
   "outputs": [
    {
     "data": {
      "text/plain": [
       "LinearRegression()"
      ]
     },
     "execution_count": 195,
     "metadata": {},
     "output_type": "execute_result"
    }
   ],
   "source": [
    "y_pred = reg.fit(x_train,y_train)\n",
    "y_pred"
   ]
  },
  {
   "cell_type": "code",
   "execution_count": 1,
   "id": "b2867147",
   "metadata": {},
   "outputs": [
    {
     "ename": "NameError",
     "evalue": "name 'reg' is not defined",
     "output_type": "error",
     "traceback": [
      "\u001b[1;31m---------------------------------------------------------------------------\u001b[0m",
      "\u001b[1;31mNameError\u001b[0m                                 Traceback (most recent call last)",
      "\u001b[1;32m~\\AppData\\Local\\Temp/ipykernel_33524/778484243.py\u001b[0m in \u001b[0;36m<module>\u001b[1;34m\u001b[0m\n\u001b[0;32m      1\u001b[0m \u001b[1;31m#  Testing the trainined\u001b[0m\u001b[1;33m\u001b[0m\u001b[1;33m\u001b[0m\u001b[1;33m\u001b[0m\u001b[0m\n\u001b[0;32m      2\u001b[0m \u001b[1;33m\u001b[0m\u001b[0m\n\u001b[1;32m----> 3\u001b[1;33m \u001b[0my_pred\u001b[0m \u001b[1;33m=\u001b[0m\u001b[0mreg\u001b[0m\u001b[1;33m.\u001b[0m\u001b[0mpredict\u001b[0m\u001b[1;33m(\u001b[0m\u001b[0mx_test\u001b[0m\u001b[1;33m)\u001b[0m\u001b[1;33m\u001b[0m\u001b[1;33m\u001b[0m\u001b[0m\n\u001b[0m\u001b[0;32m      4\u001b[0m \u001b[0mpred\u001b[0m \u001b[1;33m=\u001b[0m \u001b[1;33m[\u001b[0m\u001b[0mp\u001b[0m\u001b[1;33m[\u001b[0m\u001b[1;36m0\u001b[0m\u001b[1;33m]\u001b[0m \u001b[1;32mfor\u001b[0m \u001b[0mp\u001b[0m \u001b[1;32min\u001b[0m \u001b[0mpred\u001b[0m\u001b[1;33m]\u001b[0m\u001b[1;33m\u001b[0m\u001b[1;33m\u001b[0m\u001b[0m\n",
      "\u001b[1;31mNameError\u001b[0m: name 'reg' is not defined"
     ]
    }
   ],
   "source": [
    "#  Testing the trainined\n",
    "\n",
    "y_pred =reg.predict(x_test)\n",
    "pred = [p[0] for p in pred]"
   ]
  },
  {
   "cell_type": "code",
   "execution_count": 197,
   "id": "fe111a83",
   "metadata": {},
   "outputs": [
    {
     "data": {
      "text/plain": [
       "[<matplotlib.lines.Line2D at 0x1ec6a8a59d0>]"
      ]
     },
     "execution_count": 197,
     "metadata": {},
     "output_type": "execute_result"
    },
    {
     "data": {
      "image/png": "[encoded data removed]",
      "text/plain": [
       "<Figure size 432x288 with 1 Axes>"
      ]
     },
     "metadata": {
      "needs_background": "light"
     },
     "output_type": "display_data"
    }
   ],
   "source": [
    "# visualizing the prediction \n",
    "plt.plot(y_pred)"
   ]
  },
  {
   "cell_type": "markdown",
   "id": "da4fb407",
   "metadata": {},
   "source": [
    "\n",
    "### MSE ,R Square, Adjusted R Square, RMSE, MAE"
   ]
  },
  {
   "cell_type": "markdown",
   "id": "6eb9b406",
   "metadata": {},
   "source": [
    "### Coeffcient    - Used to determine  how much the dependent variable is expected to increase"
   ]
  },
  {
   "cell_type": "code",
   "execution_count": 198,
   "id": "2fbea936",
   "metadata": {},
   "outputs": [
    {
     "data": {
      "text/plain": [
       "array([-0.03197344, -0.0227597 ,  0.12314261,  0.80340807])"
      ]
     },
     "execution_count": 198,
     "metadata": {},
     "output_type": "execute_result"
    }
   ],
   "source": [
    "\n",
    "reg.coef_ "
   ]
  },
  {
   "cell_type": "code",
   "execution_count": 199,
   "id": "e22ec0a7",
   "metadata": {},
   "outputs": [
    {
     "data": {
      "text/plain": [
       "16.102607432854075"
      ]
     },
     "execution_count": 199,
     "metadata": {},
     "output_type": "execute_result"
    }
   ],
   "source": [
    "reg.intercept_"
   ]
  },
  {
   "cell_type": "markdown",
   "id": "2a8b98cc",
   "metadata": {},
   "source": [
    "### MSE - to determine  how close a regression line is to a set of points"
   ]
  },
  {
   "cell_type": "code",
   "execution_count": 200,
   "id": "2756d48b",
   "metadata": {},
   "outputs": [],
   "source": [
    "from sklearn.metrics import mean_squared_error "
   ]
  },
  {
   "cell_type": "code",
   "execution_count": 201,
   "id": "aa1e465a",
   "metadata": {},
   "outputs": [
    {
     "data": {
      "text/plain": [
       "154.31875470630382"
      ]
     },
     "execution_count": 201,
     "metadata": {},
     "output_type": "execute_result"
    }
   ],
   "source": [
    "mean_squared_error(y_test,y_pred)"
   ]
  },
  {
   "cell_type": "code",
   "execution_count": 202,
   "id": "a1c8c6b7",
   "metadata": {},
   "outputs": [
    {
     "data": {
      "text/plain": [
       "12.422510000249702"
      ]
     },
     "execution_count": 202,
     "metadata": {},
     "output_type": "execute_result"
    }
   ],
   "source": [
    "mean_squared_error(y_test,y_pred,squared=False)"
   ]
  },
  {
   "cell_type": "markdown",
   "id": "8e6abac5",
   "metadata": {},
   "source": [
    "### R Square  to determine is a goodness-of-fit measure for linear regression models and identify   how much variation of a dependent variable is explained by the independent  variable(s) in a regression model."
   ]
  },
  {
   "cell_type": "code",
   "execution_count": 203,
   "id": "2f906def",
   "metadata": {},
   "outputs": [
    {
     "data": {
      "text/plain": [
       "0.23523749658777227"
      ]
     },
     "execution_count": 203,
     "metadata": {},
     "output_type": "execute_result"
    }
   ],
   "source": [
    "from sklearn.metrics import r2_score\n",
    "r2_score(y_test,y_pred)"
   ]
  },
  {
   "cell_type": "code",
   "execution_count": 204,
   "id": "f90bec43",
   "metadata": {},
   "outputs": [],
   "source": [
    "# Adjusted R Square\n",
    "\n",
    "# Adjusted R2 = 1 – [ (1-R2)* (n-1)/ (n-k-1)] \n",
    "# Because R2 always increases as you add more predictors to a model, \n",
    "# adjusted R2 can serve as a metric that tells you how useful\n",
    "# a model is, adjusted for the number of predictors in a model."
   ]
  },
  {
   "cell_type": "code",
   "execution_count": 205,
   "id": "4100731e",
   "metadata": {},
   "outputs": [
    {
     "data": {
      "text/plain": [
       "1.0030945062784409"
      ]
     },
     "execution_count": 205,
     "metadata": {},
     "output_type": "execute_result"
    }
   ],
   "source": [
    "\n",
    "r2 = r2_score(y_test,y_pred)\n",
    "\n",
    "n= len(y_test)\n",
    "k= len(x_test.columns)\n",
    "\n",
    "adj_r2= 1-(((1-r2)*(r2-1))/(n-k-1)) \n",
    "adj_r2       "
   ]
  },
  {
   "cell_type": "markdown",
   "id": "fd582264",
   "metadata": {},
   "source": [
    "### RMSE  - to detrmine  the average distance between the predicted values from the model and the actual values in the dataset."
   ]
  },
  {
   "cell_type": "code",
   "execution_count": 206,
   "id": "8923a2bb",
   "metadata": {},
   "outputs": [
    {
     "name": "stdout",
     "output_type": "stream",
     "text": [
      "RMSE 12.422510000249702\n"
     ]
    }
   ],
   "source": [
    "print(\"RMSE\",np.sqrt(mean_squared_error(y_test,y_pred)))"
   ]
  },
  {
   "cell_type": "code",
   "execution_count": 207,
   "id": "a36994f2",
   "metadata": {},
   "outputs": [
    {
     "name": "stdout",
     "output_type": "stream",
     "text": [
      "RMSE 2.5195101495050594\n"
     ]
    }
   ],
   "source": [
    "print(\"RMSE\",np.log(np.sqrt(mean_squared_error(y_test,y_pred)))) # Taking the log of the RMSE metric slows down the scale of error"
   ]
  },
  {
   "cell_type": "markdown",
   "id": "36ce5a81",
   "metadata": {},
   "source": [
    "### MAE = which calculates the absolute difference between actual and predicted values."
   ]
  },
  {
   "cell_type": "code",
   "execution_count": 208,
   "id": "a29ddd65",
   "metadata": {},
   "outputs": [
    {
     "name": "stdout",
     "output_type": "stream",
     "text": [
      "MAE 8.413265186976458\n"
     ]
    }
   ],
   "source": [
    "from sklearn.metrics import mean_absolute_error\n",
    "print(\"MAE\",mean_absolute_error(y_test,y_pred))"
   ]
  },
  {
   "cell_type": "code",
   "execution_count": 209,
   "id": "2abb6451",
   "metadata": {},
   "outputs": [],
   "source": [
    "from sklearn import preprocessing\n",
    "from sklearn.model_selection import KFold\n",
    "from sklearn.linear_model import LinearRegression\n",
    "import matplotlib.pyplot as plt\n",
    "%matplotlib inline"
   ]
  },
  {
   "cell_type": "code",
   "execution_count": 210,
   "id": "7b13e8b5",
   "metadata": {},
   "outputs": [
    {
     "data": {
      "text/html": [
       "<div>\n",
       "<style scoped>\n",
       "    .dataframe tbody tr th:only-of-type {\n",
       "        vertical-align: middle;\n",
       "    }\n",
       "\n",
       "    .dataframe tbody tr th {\n",
       "        vertical-align: top;\n",
       "    }\n",
       "\n",
       "    .dataframe thead th {\n",
       "        text-align: right;\n",
       "    }\n",
       "</style>\n",
       "<table border=\"1\" class=\"dataframe\">\n",
       "  <thead>\n",
       "    <tr style=\"text-align: right;\">\n",
       "      <th></th>\n",
       "      <th>Coeff</th>\n",
       "    </tr>\n",
       "  </thead>\n",
       "  <tbody>\n",
       "    <tr>\n",
       "      <th>NO2_Contn</th>\n",
       "      <td>-0.031973</td>\n",
       "    </tr>\n",
       "    <tr>\n",
       "      <th>Temp_ Avg</th>\n",
       "      <td>-0.022760</td>\n",
       "    </tr>\n",
       "    <tr>\n",
       "      <th>SO2 _Contn</th>\n",
       "      <td>0.123143</td>\n",
       "    </tr>\n",
       "    <tr>\n",
       "      <th>PM2.5_Contn</th>\n",
       "      <td>0.803408</td>\n",
       "    </tr>\n",
       "  </tbody>\n",
       "</table>\n",
       "</div>"
      ],
      "text/plain": [
       "                 Coeff\n",
       " NO2_Contn   -0.031973\n",
       "Temp_ Avg    -0.022760\n",
       "SO2 _Contn    0.123143\n",
       " PM2.5_Contn  0.803408"
      ]
     },
     "execution_count": 210,
     "metadata": {},
     "output_type": "execute_result"
    }
   ],
   "source": [
    "pd.DataFrame(reg.coef_,x.columns,columns=['Coeff'])"
   ]
  },
  {
   "cell_type": "code",
   "execution_count": 211,
   "id": "6b6f9a40",
   "metadata": {},
   "outputs": [
    {
     "data": {
      "text/plain": [
       "LinearRegression()"
      ]
     },
     "execution_count": 211,
     "metadata": {},
     "output_type": "execute_result"
    }
   ],
   "source": [
    "reg.fit(data[['Temp_ Avg ','SO2 _Contn', ' PM2.5_Contn']],data.deathIncrease) "
   ]
  },
  {
   "cell_type": "code",
   "execution_count": 212,
   "id": "ede0f2d9",
   "metadata": {},
   "outputs": [],
   "source": [
    "#B1 = Correlation * (Std. Dev. of y_train / Std. Dev. of x_train)\n",
    "# B0 = Mean(y_train) – B1 * Mean(x_train)"
   ]
  },
  {
   "cell_type": "code",
   "execution_count": 213,
   "id": "461d9ecd",
   "metadata": {},
   "outputs": [
    {
     "data": {
      "text/plain": [
       "array([0.01943212, 0.08241618, 0.74439551])"
      ]
     },
     "execution_count": 213,
     "metadata": {},
     "output_type": "execute_result"
    }
   ],
   "source": [
    "reg.coef_"
   ]
  },
  {
   "cell_type": "code",
   "execution_count": 214,
   "id": "3160cabc",
   "metadata": {
    "scrolled": true
   },
   "outputs": [
    {
     "data": {
      "image/png": "[encoded data removed]",
      "text/plain": [
       "<Figure size 700x350 with 1 Axes>"
      ]
     },
     "metadata": {},
     "output_type": "display_data"
    }
   ],
   "source": [
    "import matplotlib.pyplot as plt\n",
    "\n",
    "plt.style.use('default')\n",
    "plt.style.use('ggplot')\n",
    "\n",
    "fig, ax = plt.subplots(figsize=(7, 3.5))\n",
    "\n",
    "ax.plot(y_pred, color='k', label='Regression model')\n",
    "#ax.scatter(x, y, edgecolor='k', facecolor='grey', alpha=0.7, label='Sample data')\n",
    "#ax.set_ylabel('deathIncrease'),fontsize=14)\n",
    "#ax.set_xlabel('PM2.5_Contn'), fontsize=14)\n",
    "#ax.legend(facecolor='white', fontsize=11)\n",
    "#ax.text(0.55, 0.15, '$y = %.2f x_1 - %.2f $' % (model.coef_[0], abs(model.intercept_)), fontsize=17, transform=ax.transAxes)\n",
    "\n",
    "fig.tight_layout()"
   ]
  },
  {
   "cell_type": "code",
   "execution_count": null,
   "id": "58f986ae",
   "metadata": {},
   "outputs": [],
   "source": []
  },
  {
   "cell_type": "code",
   "execution_count": null,
   "id": "9a16bb05",
   "metadata": {},
   "outputs": [],
   "source": []
  },
  {
   "cell_type": "code",
   "execution_count": null,
   "id": "b5bc6d02",
   "metadata": {},
   "outputs": [],
   "source": []
  },
  {
   "cell_type": "code",
   "execution_count": null,
   "id": "fb313016",
   "metadata": {},
   "outputs": [],
   "source": []
  },
  {
   "cell_type": "code",
   "execution_count": null,
   "id": "375f4e92",
   "metadata": {},
   "outputs": [],
   "source": []
  },
  {
   "cell_type": "code",
   "execution_count": null,
   "id": "d21c30e8",
   "metadata": {},
   "outputs": [],
   "source": []
  },
  {
   "cell_type": "code",
   "execution_count": null,
   "id": "4c015629",
   "metadata": {},
   "outputs": [],
   "source": []
  },
  {
   "cell_type": "code",
   "execution_count": null,
   "id": "3497c5be",
   "metadata": {},
   "outputs": [],
   "source": []
  },
  {
   "cell_type": "code",
   "execution_count": null,
   "id": "477edadf",
   "metadata": {},
   "outputs": [],
   "source": []
  },
  {
   "cell_type": "code",
   "execution_count": null,
   "id": "7b43d562",
   "metadata": {},
   "outputs": [],
   "source": []
  },
  {
   "cell_type": "code",
   "execution_count": null,
   "id": "05e55410",
   "metadata": {},
   "outputs": [],
   "source": []
  },
  {
   "cell_type": "code",
   "execution_count": null,
   "id": "e6e1410c",
   "metadata": {},
   "outputs": [],
   "source": []
  },
  {
   "cell_type": "code",
   "execution_count": null,
   "id": "cf44a922",
   "metadata": {},
   "outputs": [],
   "source": []
  },
  {
   "cell_type": "code",
   "execution_count": null,
   "id": "ca3a98e1",
   "metadata": {},
   "outputs": [],
   "source": []
  },
  {
   "cell_type": "code",
   "execution_count": null,
   "id": "25a37eb7",
   "metadata": {},
   "outputs": [],
   "source": []
  },
  {
   "cell_type": "code",
   "execution_count": null,
   "id": "9bfec48b",
   "metadata": {},
   "outputs": [],
   "source": []
  }
 ],
 "metadata": {
  "kernelspec": {
   "display_name": "Python 3 (ipykernel)",
   "language": "python",
   "name": "python3"
  },
  "language_info": {
   "codemirror_mode": {
    "name": "ipython",
    "version": 3
   },
   "file_extension": ".py",
   "mimetype": "text/x-python",
   "name": "python",
   "nbconvert_exporter": "python",
   "pygments_lexer": "ipython3",
   "version": "3.8.11"
  }
 },
 "nbformat": 4,
 "nbformat_minor": 5
}
